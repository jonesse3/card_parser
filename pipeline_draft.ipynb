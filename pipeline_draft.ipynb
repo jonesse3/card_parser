{
 "cells": [
  {
   "cell_type": "markdown",
   "id": "636c95eb",
   "metadata": {},
   "source": [
    "Contains pipeline for reading in image files, extracing relevant data, and outputing a dataframe.\n",
    "\n",
    "Download installer for tesseract for Windows:\n",
    "\n",
    "https://github.com/tesseract-ocr/tessdoc/blob/main/Installation.md\n",
    "\n",
    "https://github.com/UB-Mannheim/tesseract/wiki"
   ]
  },
  {
   "cell_type": "code",
   "execution_count": 2,
   "id": "d72d66b7",
   "metadata": {},
   "outputs": [],
   "source": [
    "#import packages for ocr\n",
    "from PIL import Image\n",
    "import pytesseract\n",
    "#set location of tesseracct executable\n",
    "pytesseract.pytesseract.tesseract_cmd = r'C:\\Users\\mayerlm\\Saved Games\\Desktop\\tesseract\\tesseract.exe'\n",
    "import cv2\n",
    "from matplotlib import pyplot as plt\n",
    "%matplotlib inline\n",
    "import pdfplumber\n",
    "\n",
    "#import packages for data manipulation\n",
    "import numpy as np\n",
    "import pandas as pd\n",
    "import argparse\n",
    "import sys\n",
    "import re\n",
    "import os"
   ]
  },
  {
   "cell_type": "code",
   "execution_count": 2,
   "id": "79ec1a06",
   "metadata": {},
   "outputs": [],
   "source": [
    "#set functions\n",
    "\n",
    "#check if filepath exists and return valid filepath\n",
    "# (based on function by Sara Jones)\n",
    "def check_path(filepath):\n",
    "    if os.path.exists(filepath):\n",
    "        return filepath\n",
    "    else:\n",
    "        print(\"{} does not exist.\".format(filepath))\n",
    "        sys.exit()\n",
    "\n",
    "#search for dates with regular expressions \n",
    "#for now, pieces of this typed into pipeline, but could use separate function instead if needed\n",
    "def short_dates(card_text):\n",
    "    dates=[]\n",
    "    found=re.findall('(\\d+[-\\/|]\\d+[-\\/|]\\d+)',card_text)\n",
    "    dates.append(found)\n",
    "    return(dates)\n",
    "#this date format catches 00/00/00, 00-00-00, 00|00|00, mixed delimiters, four digit years, different m/d/y orders\n",
    "\n"
   ]
  },
  {
   "cell_type": "code",
   "execution_count": null,
   "id": "640fbac4",
   "metadata": {},
   "outputs": [],
   "source": []
  },
  {
   "cell_type": "code",
   "execution_count": 3,
   "id": "a4c381a5",
   "metadata": {},
   "outputs": [
    {
     "data": {
      "text/plain": [
       "'C:/Users/mayerlm/Saved Games/Desktop/text-recognition-ocr-python/images/'"
      ]
     },
     "execution_count": 3,
     "metadata": {},
     "output_type": "execute_result"
    }
   ],
   "source": [
    "#make output dataframe with image file names + extracted contents\n",
    "#args: imagefiles (string) - path to folder with images\n",
    "\n",
    "#returns dataframe\n",
    "#      id (string)    - hhs id\n",
    "#      valid (string) - yes if valid vax card, no if not\n",
    "#      manuf (string) - vaccine manufacturer from vard\n",
    "#      dates (string) - extracted dates from card\n",
    "def make_df(imagepath):\n",
    "    total_files = 0 # number of files in folder\n",
    "    total_valid = 0 \n",
    "    \n",
    "    if os.path.isdir(imagepath):\n",
    "        filenames=[] #list for image file names\n",
    "        ids=[] #list for hhs ids\n",
    "        valid=[] #list for valid card\n",
    "        manuf=[] #list for manufacturers\n",
    "        dates=[] #list for dates\n",
    "        flags=[] #list for flags\n",
    "        \n",
    "        #loop through each file and do stuff\n",
    "        for file in os.listdir(imagepath):\n",
    "            total_files += 1\n",
    "            #add file names and ids for all files, regardless of if we can pull data\n",
    "            filenames.append(file)\n",
    "            ids.append(file.split('_',1)[0]) #change based on actual delim\n",
    "                \n",
    "            if file.endswith('pdf'):\n",
    "            #continue to pdf reader\n",
    "            else: \n",
    "                img=cv2.imread(imagepath)\n",
    "                text=pytesseract.image_to_string(img)\n",
    "\n",
    "                #check if text contains key words for covid vax validity\n",
    "                vaxwords=\"COVID-19 Vaccination\" in text # for now just look for \"COVID-19 Vaccination\" but later could we match list of potential strings?\n",
    "                if vaxwords==True:\n",
    "                    valid.append(\"yes\")\n",
    "                    total_valid +=1\n",
    "                        \n",
    "                    #extract manufacturer text if it matches a list of manufacturers\n",
    "                    \n",
    "                    #extract dates using regex developed elsewhere\n",
    "                    found=re.findall('(\\d+[-\\/|]\\d+[-\\/|]\\d+)',card_text)\n",
    "                    dates.append(found)\n",
    "\n",
    "                else:\n",
    "                    valid.append(\"no\")\n",
    "                    #should add some specific term for other variables \"na\"?    \n",
    "                #if image can't be read, flag for manual review\n",
    "            except: \n",
    "                flag=\"manual_review_required\"\n",
    "                #do I need to add something to close file?\n",
    "                    \n",
    "    else:\n",
    "        print(\"Not valid directory.\")\n",
    "        sys.exit()\n",
    "    print(\"Number of files in directory: {}\". format(total_files))\n",
    "    print(\"Number of files with at least a valid card: {}\". format(total_valid))\n",
    "                    \n",
    "    # create a zipped list of tuples from above lists\n",
    "    data = list(zip(filenames, ids, valid, manuf, dates, flags))\n",
    "\n",
    "    # convert to dataframe\n",
    "    df = pd.DataFrame(data, columns = [\"filename\",\"hhs_id\",\"valid_doc\",\"manufacturer\",\"vax_dates\",\"flags\"])\n",
    "\n",
    "    return df\n",
    "                        \n",
    "        \n",
    "        "
   ]
  },
  {
   "cell_type": "code",
   "execution_count": null,
   "id": "e9adc5aa",
   "metadata": {},
   "outputs": [],
   "source": [
    "#how to call/execute?"
   ]
  }
 ],
 "metadata": {
  "kernelspec": {
   "display_name": "Python 3",
   "language": "python",
   "name": "python3"
  },
  "language_info": {
   "codemirror_mode": {
    "name": "ipython",
    "version": 3
   },
   "file_extension": ".py",
   "mimetype": "text/x-python",
   "name": "python",
   "nbconvert_exporter": "python",
   "pygments_lexer": "ipython3",
   "version": "3.8.3"
  }
 },
 "nbformat": 4,
 "nbformat_minor": 5
}
